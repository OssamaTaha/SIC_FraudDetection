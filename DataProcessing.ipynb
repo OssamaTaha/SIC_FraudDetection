{
 "cells": [
  {
   "cell_type": "markdown",
   "id": "ab554d46",
   "metadata": {},
   "source": [
    "# Data Processing "
   ]
  },
  {
   "cell_type": "markdown",
   "id": "e4fec3aa",
   "metadata": {},
   "source": [
    "## Import Required libraries and packages"
   ]
  },
  {
   "cell_type": "code",
   "execution_count": 1,
   "id": "c9532247",
   "metadata": {},
   "outputs": [
    {
     "name": "stdout",
     "output_type": "stream",
     "text": [
      "Defaulting to user installation because normal site-packages is not writeable\n",
      "Requirement already satisfied: seaborn in ./.local/lib/python3.8/site-packages (0.13.2)\n",
      "Requirement already satisfied: matplotlib!=3.6.1,>=3.4 in ./.local/lib/python3.8/site-packages (from seaborn) (3.7.5)\n",
      "Requirement already satisfied: numpy!=1.24.0,>=1.20 in /usr/local/lib/python3.8/site-packages (from seaborn) (1.21.2)\n",
      "Requirement already satisfied: pandas>=1.2 in /usr/local/lib/python3.8/site-packages (from seaborn) (1.3.2)\n",
      "Requirement already satisfied: cycler>=0.10 in ./.local/lib/python3.8/site-packages (from matplotlib!=3.6.1,>=3.4->seaborn) (0.12.1)\n",
      "Requirement already satisfied: pillow>=6.2.0 in ./.local/lib/python3.8/site-packages (from matplotlib!=3.6.1,>=3.4->seaborn) (10.4.0)\n",
      "Requirement already satisfied: importlib-resources>=3.2.0 in ./.local/lib/python3.8/site-packages (from matplotlib!=3.6.1,>=3.4->seaborn) (6.4.5)\n",
      "Requirement already satisfied: contourpy>=1.0.1 in ./.local/lib/python3.8/site-packages (from matplotlib!=3.6.1,>=3.4->seaborn) (1.1.1)\n",
      "Requirement already satisfied: pyparsing>=2.3.1 in /usr/local/lib/python3.8/site-packages (from matplotlib!=3.6.1,>=3.4->seaborn) (2.4.7)\n",
      "Requirement already satisfied: packaging>=20.0 in /usr/local/lib/python3.8/site-packages (from matplotlib!=3.6.1,>=3.4->seaborn) (21.0)\n",
      "Requirement already satisfied: python-dateutil>=2.7 in /usr/local/lib/python3.8/site-packages (from matplotlib!=3.6.1,>=3.4->seaborn) (2.8.2)\n",
      "Requirement already satisfied: kiwisolver>=1.0.1 in ./.local/lib/python3.8/site-packages (from matplotlib!=3.6.1,>=3.4->seaborn) (1.4.7)\n",
      "Requirement already satisfied: fonttools>=4.22.0 in ./.local/lib/python3.8/site-packages (from matplotlib!=3.6.1,>=3.4->seaborn) (4.53.1)\n",
      "Requirement already satisfied: zipp>=3.1.0 in ./.local/lib/python3.8/site-packages (from importlib-resources>=3.2.0->matplotlib!=3.6.1,>=3.4->seaborn) (3.20.1)\n",
      "Requirement already satisfied: pytz>=2017.3 in /usr/local/lib/python3.8/site-packages (from pandas>=1.2->seaborn) (2021.1)\n",
      "Requirement already satisfied: six>=1.5 in /usr/local/lib/python3.8/site-packages (from python-dateutil>=2.7->matplotlib!=3.6.1,>=3.4->seaborn) (1.16.0)\n",
      "\u001b[33mWARNING: You are using pip version 21.2.4; however, version 24.2 is available.\n",
      "You should consider upgrading via the '/usr/local/bin/python3.8 -m pip install --upgrade pip' command.\u001b[0m\n",
      "Defaulting to user installation because normal site-packages is not writeable\n",
      "Requirement already satisfied: sklearn in ./.local/lib/python3.8/site-packages (0.0)\n",
      "Requirement already satisfied: scikit-learn in ./.local/lib/python3.8/site-packages (from sklearn) (1.3.2)\n",
      "Requirement already satisfied: threadpoolctl>=2.0.0 in ./.local/lib/python3.8/site-packages (from scikit-learn->sklearn) (3.5.0)\n",
      "Requirement already satisfied: scipy>=1.5.0 in ./.local/lib/python3.8/site-packages (from scikit-learn->sklearn) (1.10.1)\n",
      "Requirement already satisfied: joblib>=1.1.1 in ./.local/lib/python3.8/site-packages (from scikit-learn->sklearn) (1.4.2)\n",
      "Requirement already satisfied: numpy<2.0,>=1.17.3 in /usr/local/lib/python3.8/site-packages (from scikit-learn->sklearn) (1.21.2)\n",
      "\u001b[33mWARNING: You are using pip version 21.2.4; however, version 24.2 is available.\n",
      "You should consider upgrading via the '/usr/local/bin/python3.8 -m pip install --upgrade pip' command.\u001b[0m\n"
     ]
    }
   ],
   "source": [
    "# Install necessary packages\n",
    "!pip install seaborn\n",
    "!pip install sklearn\n",
    "\n",
    "# Import libraries for data manipulation and visualization\n",
    "import pandas as pd\n",
    "import matplotlib.pyplot as plt\n",
    "import seaborn as sns\n",
    "\n",
    "# Import Spark SQL functions\n",
    "from pyspark.sql.functions import col, from_unixtime, to_date, when, sum, count, log\n",
    "\n",
    "# Import Spark MLlib features and models\n",
    "from pyspark.ml.feature import VectorAssembler, StringIndexer, OneHotEncoder\n",
    "from pyspark.ml.classification import LogisticRegression\n",
    "from pyspark.ml.evaluation import MulticlassClassificationEvaluator"
   ]
  },
  {
   "cell_type": "markdown",
   "id": "a8b76b7e",
   "metadata": {},
   "source": [
    "## Read the transactions parquet file into a DataFrame: df"
   ]
  },
  {
   "cell_type": "code",
   "execution_count": 2,
   "id": "e3c39053",
   "metadata": {},
   "outputs": [
    {
     "name": "stderr",
     "output_type": "stream",
     "text": [
      "2024-09-16 14:53:46,067 WARN parquet.CorruptStatistics: Ignoring statistics because this file was created prior to 1.8.0, see PARQUET-251\n",
      "                                                                                \r"
     ]
    },
    {
     "name": "stdout",
     "output_type": "stream",
     "text": [
      "+---+---------------------+----------------+----------------------------------+-------------+------+--------+-------+------+---------------------------+--------------+-----+-----+-------+--------+--------+------------------------------+-------------+--------------------------------+----------+---------+----------+--------+\n",
      "|id |trans_date_trans_time|cc_num          |merchant                          |category     |amt   |first   |last   |gender|street                     |city          |state|zip  |lat    |lon     |city_pop|job                           |dob          |trans_num                       |unix_time |merch_lat|merch_long|is_fraud|\n",
      "+---+---------------------+----------------+----------------------------------+-------------+------+--------+-------+------+---------------------------+--------------+-----+-----+-------+--------+--------+------------------------------+-------------+--------------------------------+----------+---------+----------+--------+\n",
      "|1  |2019-01-01 00:00:18  |2703186189652095|fraud_Rippin, Kub and Mann        |misc_net     |4.97  |Jennifer|Banks  |F     |561 Perry Cove             |Moravian Falls|NC   |28654|36.0788|-81.1781|3495    |Psychologist, counselling     |573836400000 |0b242abb623afc578575680df30655b9|1325376018|36.0113  |-82.0483  |false   |\n",
      "|2  |2019-01-01 00:00:51  |38859492057661  |fraud_Lind-Buckridge              |entertainment|220.11|Edward  |Sanchez|M     |594 White Dale Suite 530   |Malad City    |ID   |83252|42.1808|-112.262|4154    |Nature conservation officer   |-250938000000|a1a22d70485983eac12b5b88dad1cf95|1325376051|43.1507  |-112.154  |false   |\n",
      "|3  |2019-01-01 00:01:16  |3534093764340240|fraud_Kutch, Hermiston and Farrell|gas_transport|45.0  |Jeremy  |White  |M     |9443 Cynthia Court Apt. 038|Boulder       |MT   |59632|46.2306|-112.114|1939    |Patent attorney               |-93776400000 |6b849c168bdad6f867558c3793159a81|1325376076|47.0343  |-112.561  |false   |\n",
      "|4  |2019-01-01 00:03:06  |375534208663984 |fraud_Keeling-Crist               |misc_pos     |41.96 |Tyler   |Garcia |M     |408 Bradley Rest           |Doe Hill      |VA   |24433|38.4207|-79.4629|99      |Dance movement psychotherapist|512319600000 |a41d7549acf90789359a9aa5346dcb46|1325376186|38.675   |-78.6325  |false   |\n",
      "|5  |2019-01-01 00:04:08  |4767265376804500|fraud_Stroman, Hudson and Erdman  |gas_transport|94.63 |Jennifer|Conner |F     |4655 David Island          |Dublin        |PA   |18917|40.375 |-75.2045|2158    |Transport planner             |-269425800000|189a841a0a8ba03058526bcfe566aab5|1325376248|40.6534  |-76.1527  |false   |\n",
      "+---+---------------------+----------------+----------------------------------+-------------+------+--------+-------+------+---------------------------+--------------+-----+-----+-------+--------+--------+------------------------------+-------------+--------------------------------+----------+---------+----------+--------+\n",
      "only showing top 5 rows\n",
      "\n"
     ]
    }
   ],
   "source": [
    "df = spark.read.parquet(\"/user/student/transactions\")\n",
    "df.show(5, truncate=False)"
   ]
  },
  {
   "cell_type": "markdown",
   "id": "16171e9a",
   "metadata": {},
   "source": [
    "### Schema"
   ]
  },
  {
   "cell_type": "code",
   "execution_count": 3,
   "id": "6f53a8c5",
   "metadata": {},
   "outputs": [
    {
     "name": "stdout",
     "output_type": "stream",
     "text": [
      "root\n",
      " |-- id: integer (nullable = true)\n",
      " |-- trans_date_trans_time: string (nullable = true)\n",
      " |-- cc_num: long (nullable = true)\n",
      " |-- merchant: string (nullable = true)\n",
      " |-- category: string (nullable = true)\n",
      " |-- amt: float (nullable = true)\n",
      " |-- first: string (nullable = true)\n",
      " |-- last: string (nullable = true)\n",
      " |-- gender: string (nullable = true)\n",
      " |-- street: string (nullable = true)\n",
      " |-- city: string (nullable = true)\n",
      " |-- state: string (nullable = true)\n",
      " |-- zip: integer (nullable = true)\n",
      " |-- lat: float (nullable = true)\n",
      " |-- lon: float (nullable = true)\n",
      " |-- city_pop: integer (nullable = true)\n",
      " |-- job: string (nullable = true)\n",
      " |-- dob: long (nullable = true)\n",
      " |-- trans_num: string (nullable = true)\n",
      " |-- unix_time: integer (nullable = true)\n",
      " |-- merch_lat: float (nullable = true)\n",
      " |-- merch_long: float (nullable = true)\n",
      " |-- is_fraud: boolean (nullable = true)\n",
      "\n"
     ]
    }
   ],
   "source": [
    "df.printSchema()"
   ]
  },
  {
   "cell_type": "markdown",
   "id": "d950780f",
   "metadata": {},
   "source": []
  },
  {
   "cell_type": "markdown",
   "id": "59186fce",
   "metadata": {},
   "source": [
    "## DataFrame Transformations"
   ]
  },
  {
   "cell_type": "markdown",
   "id": "e7a12c00",
   "metadata": {},
   "source": [
    "### dob column"
   ]
  },
  {
   "cell_type": "code",
   "execution_count": 3,
   "id": "ebef721e",
   "metadata": {},
   "outputs": [
    {
     "name": "stdout",
     "output_type": "stream",
     "text": [
      "+-------------+\n",
      "|dob          |\n",
      "+-------------+\n",
      "|573836400000 |\n",
      "|-250938000000|\n",
      "|-93776400000 |\n",
      "|512319600000 |\n",
      "|-269425800000|\n",
      "+-------------+\n",
      "only showing top 5 rows\n",
      "\n",
      "+----------+\n",
      "|dob       |\n",
      "+----------+\n",
      "|1988-03-09|\n",
      "|1962-01-19|\n",
      "|1967-01-12|\n",
      "|1986-03-28|\n",
      "|1961-06-19|\n",
      "+----------+\n",
      "only showing top 5 rows\n",
      "\n"
     ]
    }
   ],
   "source": [
    "# found dob column is long instead of date type\n",
    "df.select(\"dob\").show(5, truncate=False)\n",
    "\n",
    "# Convert 'dob' from long to date and overwrite the 'dob' column\n",
    "df = df.withColumn(\"dob\", to_date(from_unixtime(col(\"dob\") / 1000)))\n",
    "\n",
    "# Show the updated DataFrame with the 'dob' column replaced\n",
    "df.select(\"dob\").show(5, truncate=False)"
   ]
  },
  {
   "cell_type": "markdown",
   "id": "469954e7",
   "metadata": {},
   "source": [
    "### unix_time column"
   ]
  },
  {
   "cell_type": "code",
   "execution_count": 4,
   "id": "56b396b0",
   "metadata": {},
   "outputs": [
    {
     "name": "stdout",
     "output_type": "stream",
     "text": [
      "+----------+\n",
      "|unix_time |\n",
      "+----------+\n",
      "|1325376018|\n",
      "|1325376051|\n",
      "|1325376076|\n",
      "|1325376186|\n",
      "|1325376248|\n",
      "+----------+\n",
      "only showing top 5 rows\n",
      "\n",
      "+-------------------+\n",
      "|unix_time          |\n",
      "+-------------------+\n",
      "|2012-01-01 09:00:18|\n",
      "|2012-01-01 09:00:51|\n",
      "|2012-01-01 09:01:16|\n",
      "|2012-01-01 09:03:06|\n",
      "|2012-01-01 09:04:08|\n",
      "+-------------------+\n",
      "only showing top 5 rows\n",
      "\n"
     ]
    }
   ],
   "source": [
    "# found unix_time column is integer instead of timestamp type\n",
    "df.select(\"unix_time\").show(5, truncate=False)\n",
    "# Convert 'unix_time' from integer (seconds) to timestamp\n",
    "df = df.withColumn(\"unix_time\", from_unixtime(col(\"unix_time\")).cast(\"timestamp\"))\n",
    "\n",
    "# Show the updated DataFrame with the 'unix_time' column converted\n",
    "df.select(\"unix_time\").show(5, truncate=False)"
   ]
  },
  {
   "cell_type": "markdown",
   "id": "53b39f00",
   "metadata": {},
   "source": [
    "### is_fraud column"
   ]
  },
  {
   "cell_type": "code",
   "execution_count": 5,
   "id": "2d03d5ed",
   "metadata": {},
   "outputs": [
    {
     "name": "stdout",
     "output_type": "stream",
     "text": [
      "+--------+\n",
      "|is_fraud|\n",
      "+--------+\n",
      "|false   |\n",
      "|false   |\n",
      "|false   |\n",
      "|false   |\n",
      "|false   |\n",
      "+--------+\n",
      "only showing top 5 rows\n",
      "\n",
      "+--------+\n",
      "|is_fraud|\n",
      "+--------+\n",
      "|0       |\n",
      "|0       |\n",
      "|0       |\n",
      "|0       |\n",
      "|0       |\n",
      "+--------+\n",
      "only showing top 5 rows\n",
      "\n"
     ]
    }
   ],
   "source": [
    "# found is_fraud column is boolean instead of integer type containing 0s and 1s\n",
    "df.select(\"is_fraud\").show(5, truncate=False)\n",
    "\n",
    "# Convert 'is_fraud' from boolean to integer (0 and 1)\n",
    "df = df.withColumn(\"is_fraud\", when(col(\"is_fraud\") == True, 1).otherwise(0))\n",
    "\n",
    "# Show the updated DataFrame with the 'is_fraud' column replaced\n",
    "df.select(\"is_fraud\").show(5, truncate=False)"
   ]
  },
  {
   "cell_type": "markdown",
   "id": "32afb99a",
   "metadata": {},
   "source": [
    "## From sparkDataFrame to pandas DataFrame"
   ]
  },
  {
   "cell_type": "code",
   "execution_count": 7,
   "id": "df6f981c",
   "metadata": {},
   "outputs": [
    {
     "name": "stdout",
     "output_type": "stream",
     "text": [
      "   id trans_date_trans_time            cc_num  \\\n",
      "0   1   2019-01-01 00:00:18  2703186189652095   \n",
      "1   2   2019-01-01 00:00:51    38859492057661   \n",
      "2   3   2019-01-01 00:01:16  3534093764340240   \n",
      "3   4   2019-01-01 00:03:06   375534208663984   \n",
      "4   5   2019-01-01 00:04:08  4767265376804500   \n",
      "\n",
      "                             merchant       category         amt     first  \\\n",
      "0          fraud_Rippin, Kub and Mann       misc_net    4.970000  Jennifer   \n",
      "1                fraud_Lind-Buckridge  entertainment  220.110001    Edward   \n",
      "2  fraud_Kutch, Hermiston and Farrell  gas_transport   45.000000    Jeremy   \n",
      "3                 fraud_Keeling-Crist       misc_pos   41.959999     Tyler   \n",
      "4    fraud_Stroman, Hudson and Erdman  gas_transport   94.629997  Jennifer   \n",
      "\n",
      "      last gender                       street  ...        lat         lon  \\\n",
      "0    Banks      F               561 Perry Cove  ...  36.078800  -81.178101   \n",
      "1  Sanchez      M     594 White Dale Suite 530  ...  42.180801 -112.262001   \n",
      "2    White      M  9443 Cynthia Court Apt. 038  ...  46.230598 -112.113998   \n",
      "3   Garcia      M             408 Bradley Rest  ...  38.420700  -79.462898   \n",
      "4   Conner      F            4655 David Island  ...  40.375000  -75.204498   \n",
      "\n",
      "   city_pop                             job         dob  \\\n",
      "0      3495       Psychologist, counselling  1988-03-09   \n",
      "1      4154     Nature conservation officer  1962-01-19   \n",
      "2      1939                 Patent attorney  1967-01-12   \n",
      "3        99  Dance movement psychotherapist  1986-03-28   \n",
      "4      2158               Transport planner  1961-06-19   \n",
      "\n",
      "                          trans_num           unix_time  merch_lat  \\\n",
      "0  0b242abb623afc578575680df30655b9 2012-01-01 09:00:18  36.011299   \n",
      "1  a1a22d70485983eac12b5b88dad1cf95 2012-01-01 09:00:51  43.150700   \n",
      "2  6b849c168bdad6f867558c3793159a81 2012-01-01 09:01:16  47.034302   \n",
      "3  a41d7549acf90789359a9aa5346dcb46 2012-01-01 09:03:06  38.674999   \n",
      "4  189a841a0a8ba03058526bcfe566aab5 2012-01-01 09:04:08  40.653400   \n",
      "\n",
      "   merch_long is_fraud  \n",
      "0  -82.048302        0  \n",
      "1 -112.153999        0  \n",
      "2 -112.560997        0  \n",
      "3  -78.632500        0  \n",
      "4  -76.152702        0  \n",
      "\n",
      "[5 rows x 23 columns]\n"
     ]
    }
   ],
   "source": [
    "# Convert to Pandas DataFrame\n",
    "pandas_df = df.limit(5).toPandas()\n",
    "\n",
    "# Display as a table\n",
    "print(pandas_df)"
   ]
  },
  {
   "cell_type": "code",
   "execution_count": 8,
   "id": "a1f5bb5c",
   "metadata": {},
   "outputs": [
    {
     "name": "stderr",
     "output_type": "stream",
     "text": [
      "                                                                                \r"
     ]
    },
    {
     "name": "stdout",
     "output_type": "stream",
     "text": [
      "+-------+-----------------+---------------------+--------------------+-------------------+-------------+-----------------+-------+-------+-------+--------------------+-------+-------+------------------+------------------+------------------+-----------------+------------------+--------------------+-----------------+------------------+-------------------+\n",
      "|summary|               id|trans_date_trans_time|              cc_num|           merchant|     category|              amt|  first|   last| gender|              street|   city|  state|               zip|               lat|               lon|         city_pop|               job|           trans_num|        merch_lat|        merch_long|           is_fraud|\n",
      "+-------+-----------------+---------------------+--------------------+-------------------+-------------+-----------------+-------+-------+-------+--------------------+-------+-------+------------------+------------------+------------------+-----------------+------------------+--------------------+-----------------+------------------+-------------------+\n",
      "|  count|          1296674|              1296674|             1296674|            1296674|      1296674|          1296674|1296674|1296674|1296674|             1296674|1296674|1296674|           1296674|           1296674|           1296674|          1296674|           1296674|             1296674|          1296674|           1296674|            1296674|\n",
      "|   mean|         648337.5|                 null|4.171923638193481E17|               null|         null|70.35100680624446|   null|   null|   null|                null|   null|   null| 48800.63225992038|38.537613557366704| -90.2263131876809|88824.50894982085|              null|            Infinity|38.53732981848255|-90.22644318176125|0.00578865620811399|\n",
      "| stddev|374317.6858131339|                 null|1.308806900400362...|               null|         null|160.3160758283546|   null|   null|   null|                null|   null|   null|26893.196483795266| 5.075802259936194|13.759063445256393|301956.4670821891|              null|                 NaN|5.109781807896122|13.771073947908832|0.07586271881374812|\n",
      "|    min|                1|  2019-01-01 00:00:18|         60416207185|fraud_Abbott-Rogahn|entertainment|              1.0|  Aaron| Abbott|      F|  000 Jennifer Mills|Achille|     AK|              1257|           20.0271|          -165.672|               23|Academic librarian|00000ecad06b03d3a...|          19.0278|          -166.671|                  0|\n",
      "|    max|          1296674|  2020-06-21 12:13:37| 4992346398065154184|   fraud_Zulauf LLC|       travel|          28948.9|Zachary| Zuniga|      M|99736 Rose Shoals...|Zavalla|     WY|             99783|           66.6933|          -67.9503|          2906700|            Writer|ffffef9d89e7d02d8...|          67.5103|          -66.9509|                  1|\n",
      "+-------+-----------------+---------------------+--------------------+-------------------+-------------+-----------------+-------+-------+-------+--------------------+-------+-------+------------------+------------------+------------------+-----------------+------------------+--------------------+-----------------+------------------+-------------------+\n",
      "\n"
     ]
    }
   ],
   "source": [
    "df.describe().show()"
   ]
  },
  {
   "cell_type": "markdown",
   "id": "5e1ca4a9",
   "metadata": {},
   "source": [
    "## Data Cleaning"
   ]
  },
  {
   "cell_type": "markdown",
   "id": "0649d8b4",
   "metadata": {},
   "source": [
    "### Check for Nulls "
   ]
  },
  {
   "cell_type": "code",
   "execution_count": 9,
   "id": "e2120f11",
   "metadata": {},
   "outputs": [
    {
     "name": "stderr",
     "output_type": "stream",
     "text": [
      "\r",
      "[Stage 11:>                                                         (0 + 4) / 4]\r"
     ]
    },
    {
     "name": "stdout",
     "output_type": "stream",
     "text": [
      "Column 'id' has 0 null values.\n",
      "Column 'trans_date_trans_time' has 0 null values.\n",
      "Column 'cc_num' has 0 null values.\n",
      "Column 'merchant' has 0 null values.\n",
      "Column 'category' has 0 null values.\n",
      "Column 'amt' has 0 null values.\n",
      "Column 'first' has 0 null values.\n",
      "Column 'last' has 0 null values.\n",
      "Column 'gender' has 0 null values.\n",
      "Column 'street' has 0 null values.\n",
      "Column 'city' has 0 null values.\n",
      "Column 'state' has 0 null values.\n",
      "Column 'zip' has 0 null values.\n",
      "Column 'lat' has 0 null values.\n",
      "Column 'lon' has 0 null values.\n",
      "Column 'city_pop' has 0 null values.\n",
      "Column 'job' has 0 null values.\n",
      "Column 'dob' has 0 null values.\n",
      "Column 'trans_num' has 0 null values.\n",
      "Column 'unix_time' has 0 null values.\n",
      "Column 'merch_lat' has 0 null values.\n",
      "Column 'merch_long' has 0 null values.\n",
      "Column 'is_fraud' has 0 null values.\n"
     ]
    },
    {
     "name": "stderr",
     "output_type": "stream",
     "text": [
      "\r",
      "                                                                                \r"
     ]
    }
   ],
   "source": [
    "\n",
    "# Calculate null counts for each column\n",
    "null_counts = df.select([sum(col(column).isNull().cast(\"int\")).alias(column) for column in df.columns])\n",
    "\n",
    "# Collect the result as a dictionary\n",
    "null_counts_dict = null_counts.collect()[0].asDict()\n",
    "\n",
    "# Print column names and their null counts\n",
    "for column, count in null_counts_dict.items():\n",
    "    print(f\"Column '{column}' has {count} null values.\")"
   ]
  },
  {
   "cell_type": "markdown",
   "id": "8772ff25",
   "metadata": {},
   "source": [
    "### Check for Duplicates"
   ]
  },
  {
   "cell_type": "code",
   "execution_count": 10,
   "id": "499c9bc0",
   "metadata": {},
   "outputs": [
    {
     "name": "stderr",
     "output_type": "stream",
     "text": [
      "[Stage 80:=======================================>              (147 + 4) / 200]\r"
     ]
    },
    {
     "name": "stdout",
     "output_type": "stream",
     "text": [
      "Column 'id' has 0 duplicate values.\n",
      "Column 'trans_date_trans_time' has 21573 duplicate values.\n",
      "Column 'cc_num' has 983 duplicate values.\n",
      "Column 'merchant' has 693 duplicate values.\n",
      "Column 'category' has 14 duplicate values.\n",
      "Column 'amt' has 31633 duplicate values.\n",
      "Column 'first' has 352 duplicate values.\n",
      "Column 'last' has 481 duplicate values.\n",
      "Column 'gender' has 2 duplicate values.\n",
      "Column 'street' has 983 duplicate values.\n",
      "Column 'city' has 894 duplicate values.\n",
      "Column 'state' has 51 duplicate values.\n",
      "Column 'zip' has 970 duplicate values.\n",
      "Column 'lat' has 968 duplicate values.\n",
      "Column 'lon' has 969 duplicate values.\n",
      "Column 'city_pop' has 879 duplicate values.\n",
      "Column 'job' has 494 duplicate values.\n",
      "Column 'dob' has 968 duplicate values.\n",
      "Column 'trans_num' has 0 duplicate values.\n",
      "Column 'unix_time' has 21543 duplicate values.\n",
      "Column 'merch_lat' has 191945 duplicate values.\n",
      "Column 'merch_long' has 272591 duplicate values.\n",
      "Column 'is_fraud' has 2 duplicate values.\n"
     ]
    },
    {
     "name": "stderr",
     "output_type": "stream",
     "text": [
      "\r",
      "                                                                                \r"
     ]
    }
   ],
   "source": [
    "# Create a DataFrame with a column for duplicate counts\n",
    "duplicates_df = df.groupBy(df.columns).count().filter(col(\"count\") > 1)\n",
    "\n",
    "# Calculate the total number of duplicates for each column\n",
    "duplicate_counts = {}\n",
    "for column in df.columns:\n",
    "    # Count duplicates by grouping on the column and counting occurrences\n",
    "    count_duplicates = df.groupBy(column).count().filter(col(\"count\") > 1).count()\n",
    "    duplicate_counts[column] = count_duplicates\n",
    "\n",
    "# Print the column names and their duplicate counts\n",
    "for column, count in duplicate_counts.items():\n",
    "    print(f\"Column '{column}' has {count} duplicate values.\")"
   ]
  },
  {
   "cell_type": "markdown",
   "id": "e2df646e",
   "metadata": {},
   "source": [
    "## Exploring Distributions"
   ]
  },
  {
   "cell_type": "markdown",
   "id": "5012d691",
   "metadata": {},
   "source": [
    "### Exploring Numeric Data with Box Plots"
   ]
  },
  {
   "cell_type": "code",
   "execution_count": 11,
   "id": "e30c223c",
   "metadata": {},
   "outputs": [
    {
     "data": {
      "image/png": "[encoded data removed]",
      "text/plain": [
       "<Figure size 1440x864 with 6 Axes>"
      ]
     },
     "metadata": {
      "needs_background": "light"
     },
     "output_type": "display_data"
    }
   ],
   "source": [
    "# Limit the data to a manageable size\n",
    "pandas_df = df.limit(1000).toPandas()\n",
    "\n",
    "# List of numeric columns to visualize\n",
    "numeric_columns = [\"amt\", \"city_pop\", \"lat\", \"lon\", \"merch_lat\", \"merch_long\"]\n",
    "\n",
    "# Set up a figure to hold multiple plots\n",
    "plt.figure(figsize=(20, 12))\n",
    "\n",
    "# Create a box plot for each numeric column to visualize outliers\n",
    "for i, column in enumerate(numeric_columns, 1):\n",
    "    plt.subplot(2, 3, i)  # Adjust the grid size according to the number of columns\n",
    "    sns.boxplot(data=pandas_df, x=column)\n",
    "    plt.title(f'Boxplot for {column}')\n",
    "\n",
    "# Display the plots\n",
    "plt.tight_layout()\n",
    "plt.show()"
   ]
  },
  {
   "cell_type": "markdown",
   "id": "b975157e",
   "metadata": {},
   "source": [
    "# Querying"
   ]
  },
  {
   "cell_type": "code",
   "execution_count": 6,
   "id": "5da483c8",
   "metadata": {},
   "outputs": [
    {
     "name": "stderr",
     "output_type": "stream",
     "text": [
      "[Stage 9:================================================>      (175 + 8) / 200]\r"
     ]
    },
    {
     "name": "stdout",
     "output_type": "stream",
     "text": [
      "+--------------------+-----+\n",
      "|            merchant|count|\n",
      "+--------------------+-----+\n",
      "|  fraud_Rau and Sons|   49|\n",
      "|   fraud_Cormier LLC|   48|\n",
      "|   fraud_Kozey-Boehm|   48|\n",
      "|     fraud_Doyle Ltd|   47|\n",
      "|fraud_Vandervort-...|   47|\n",
      "|   fraud_Kilback LLC|   47|\n",
      "| fraud_Padberg-Welch|   44|\n",
      "|      fraud_Kuhn LLC|   44|\n",
      "|    fraud_Terry-Huel|   43|\n",
      "|      fraud_Jast Ltd|   42|\n",
      "|   fraud_Goyette Inc|   42|\n",
      "| fraud_Koepp-Witting|   42|\n",
      "|fraud_Kiehn-Emmerich|   41|\n",
      "|fraud_McDermott-W...|   41|\n",
      "|fraud_Kerluke-Abs...|   41|\n",
      "|fraud_Schmeler, B...|   41|\n",
      "|fraud_Gleason-Mac...|   40|\n",
      "|  fraud_Hudson-Ratke|   40|\n",
      "|fraud_Murray-Smitham|   40|\n",
      "|     fraud_Boyer PLC|   40|\n",
      "+--------------------+-----+\n",
      "only showing top 20 rows\n",
      "\n"
     ]
    },
    {
     "name": "stderr",
     "output_type": "stream",
     "text": [
      "\r",
      "                                                                                \r"
     ]
    }
   ],
   "source": [
    "#Total Fraudulent Transactions by Merchant\n",
    "df.filter(df.is_fraud == 1) \\\n",
    "  .groupBy(\"merchant\") \\\n",
    "  .count() \\\n",
    "  .orderBy(\"count\", ascending=False) \\\n",
    "  .show()\n"
   ]
  },
  {
   "cell_type": "code",
   "execution_count": 7,
   "id": "8b23cbbb",
   "metadata": {},
   "outputs": [
    {
     "name": "stderr",
     "output_type": "stream",
     "text": [
      "[Stage 11:====================================================> (195 + 4) / 200]\r"
     ]
    },
    {
     "name": "stdout",
     "output_type": "stream",
     "text": [
      "+-----------+-----+\n",
      "|       city|count|\n",
      "+-----------+-----+\n",
      "|    Houston|   39|\n",
      "|     Warren|   33|\n",
      "|     Naples|   29|\n",
      "| Huntsville|   29|\n",
      "|     Dallas|   27|\n",
      "|      Tulsa|   27|\n",
      "|     Topeka|   27|\n",
      "|    Detroit|   26|\n",
      "|      Utica|   25|\n",
      "|San Antonio|   25|\n",
      "+-----------+-----+\n",
      "\n"
     ]
    },
    {
     "name": "stderr",
     "output_type": "stream",
     "text": [
      "\r",
      "                                                                                \r"
     ]
    }
   ],
   "source": [
    "#Top Cities by Number of Fraudulent Transactions\n",
    "df.filter(df.is_fraud == 1) \\\n",
    "  .groupBy(\"city\") \\\n",
    "  .count() \\\n",
    "  .orderBy(\"count\", ascending=False) \\\n",
    "  .limit(10) \\\n",
    "  .show()\n"
   ]
  },
  {
   "cell_type": "code",
   "execution_count": 8,
   "id": "71e637cc",
   "metadata": {},
   "outputs": [
    {
     "name": "stderr",
     "output_type": "stream",
     "text": [
      "[Stage 14:=================================>                   (127 + 12) / 200]\r"
     ]
    },
    {
     "name": "stdout",
     "output_type": "stream",
     "text": [
      "+----------------+-----+\n",
      "|transaction_hour|count|\n",
      "+----------------+-----+\n",
      "|              22| 1931|\n",
      "|              23| 1904|\n",
      "|               1|  658|\n",
      "|               0|  635|\n",
      "|               2|  625|\n",
      "|               3|  609|\n",
      "|              14|   86|\n",
      "|              18|   81|\n",
      "|              19|   81|\n",
      "|              13|   80|\n",
      "|              15|   79|\n",
      "|              17|   78|\n",
      "|              16|   76|\n",
      "|              21|   74|\n",
      "|              12|   67|\n",
      "|              20|   62|\n",
      "|               5|   60|\n",
      "|               7|   56|\n",
      "|               8|   49|\n",
      "|               9|   47|\n",
      "+----------------+-----+\n",
      "only showing top 20 rows\n",
      "\n"
     ]
    },
    {
     "name": "stderr",
     "output_type": "stream",
     "text": [
      "\r",
      "[Stage 14:===========================================>          (162 + 5) / 200]\r",
      "\r",
      "                                                                                \r"
     ]
    }
   ],
   "source": [
    "#Fraudulent Transactions by Time of Day\n",
    "from pyspark.sql.functions import hour\n",
    "\n",
    "df.filter(df.is_fraud == True) \\\n",
    "  .withColumn(\"transaction_hour\", hour(\"trans_date_trans_time\")) \\\n",
    "  .groupBy(\"transaction_hour\") \\\n",
    "  .count() \\\n",
    "  .orderBy(\"count\", ascending=False) \\\n",
    "  .show()\n"
   ]
  },
  {
   "cell_type": "code",
   "execution_count": 9,
   "id": "72c200e3",
   "metadata": {},
   "outputs": [
    {
     "name": "stderr",
     "output_type": "stream",
     "text": [
      "                                                                                \r"
     ]
    },
    {
     "name": "stdout",
     "output_type": "stream",
     "text": [
      "+--------+----------------------+\n",
      "|is_fraud|avg_transaction_amount|\n",
      "+--------+----------------------+\n",
      "|       1|     531.3200920353786|\n",
      "|       0|      67.6670789134253|\n",
      "+--------+----------------------+\n",
      "\n"
     ]
    }
   ],
   "source": [
    "#Average Transaction Amount for Fraudulent vs. Non-Fraudulent Transactions\n",
    "df.groupBy(\"is_fraud\") \\\n",
    "  .agg({\"amt\": \"avg\"}) \\\n",
    "  .withColumnRenamed(\"avg(amt)\", \"avg_transaction_amount\") \\\n",
    "  .show()\n"
   ]
  },
  {
   "cell_type": "code",
   "execution_count": 10,
   "id": "00bf56e9",
   "metadata": {},
   "outputs": [
    {
     "name": "stderr",
     "output_type": "stream",
     "text": [
      "[Stage 26:=============================================>        (167 + 4) / 200]\r"
     ]
    },
    {
     "name": "stdout",
     "output_type": "stream",
     "text": [
      "+--------------+-------------------+\n",
      "|      category|         fraud_rate|\n",
      "+--------------+-------------------+\n",
      "|  shopping_net| 1.7561485703740913|\n",
      "|      misc_net| 1.4457945549638946|\n",
      "|   grocery_pos| 1.4097721555844933|\n",
      "|  shopping_pos| 0.7225383982446517|\n",
      "| gas_transport| 0.4693944204346076|\n",
      "|      misc_pos| 0.3138534931893792|\n",
      "|   grocery_net| 0.2948165097245446|\n",
      "|        travel|0.28637025699261853|\n",
      "| entertainment|0.24783542876592848|\n",
      "| personal_care| 0.2424028735758831|\n",
      "|     kids_pets|0.21143893484319015|\n",
      "|   food_dining| 0.1650976919123998|\n",
      "|          home|0.16082524468992407|\n",
      "|health_fitness|0.15486905995645037|\n",
      "+--------------+-------------------+\n",
      "\n"
     ]
    },
    {
     "name": "stderr",
     "output_type": "stream",
     "text": [
      "\r",
      "                                                                                \r"
     ]
    }
   ],
   "source": [
    "#Fraud Rate by Category\n",
    "from pyspark.sql.functions import sum as _sum\n",
    "\n",
    "df.groupBy(\"category\") \\\n",
    "  .agg((_sum(df.is_fraud.cast(\"int\")) * 100 / _sum(df.is_fraud.cast(\"int\") + (1 - df.is_fraud.cast(\"int\")))).alias(\"fraud_rate\")) \\\n",
    "  .orderBy(\"fraud_rate\", ascending=False) \\\n",
    "  .show()\n"
   ]
  },
  {
   "cell_type": "code",
   "execution_count": 11,
   "id": "1cfc0342",
   "metadata": {},
   "outputs": [
    {
     "name": "stderr",
     "output_type": "stream",
     "text": [
      "[Stage 28:================================================>     (179 + 4) / 200]\r"
     ]
    },
    {
     "name": "stdout",
     "output_type": "stream",
     "text": [
      "+--------------------+-----+\n",
      "|                 job|count|\n",
      "+--------------------+-----+\n",
      "|  Materials engineer|   62|\n",
      "|Trading standards...|   56|\n",
      "|     Naval architect|   53|\n",
      "| Exhibition designer|   51|\n",
      "|Surveyor, land/ge...|   50|\n",
      "| Mechanical engineer|   49|\n",
      "|   Quantity surveyor|   48|\n",
      "|      Prison officer|   48|\n",
      "|Audiological scie...|   46|\n",
      "|Copywriter, adver...|   45|\n",
      "+--------------------+-----+\n",
      "\n"
     ]
    },
    {
     "name": "stderr",
     "output_type": "stream",
     "text": [
      "\r",
      "[Stage 28:=====================================================>(198 + 2) / 200]\r",
      "\r",
      "                                                                                \r"
     ]
    }
   ],
   "source": [
    "#Find the Most Common Job Among Fraudsters\n",
    "df.filter(df.is_fraud == 1) \\\n",
    "  .groupBy(\"job\") \\\n",
    "  .count() \\\n",
    "  .orderBy(\"count\", ascending=False) \\\n",
    "  .limit(10) \\\n",
    "  .show()\n"
   ]
  },
  {
   "cell_type": "markdown",
   "id": "9acebbe2",
   "metadata": {},
   "source": [
    "### Visualizing Class Distribution with a Pie Chart"
   ]
  },
  {
   "cell_type": "code",
   "execution_count": 12,
   "id": "2169f37b",
   "metadata": {},
   "outputs": [
    {
     "name": "stdout",
     "output_type": "stream",
     "text": [
      "+--------+-------+\n",
      "|is_fraud|  count|\n",
      "+--------+-------+\n",
      "|       1|   7506|\n",
      "|       0|1289168|\n",
      "+--------+-------+\n",
      "\n"
     ]
    },
    {
     "data": {
      "image/png": "[encoded data removed]",
      "text/plain": [
       "<Figure size 576x576 with 1 Axes>"
      ]
     },
     "metadata": {},
     "output_type": "display_data"
    }
   ],
   "source": [
    "# Create a temporary view for SQL queries\n",
    "df.createOrReplaceTempView(\"data_view\")\n",
    "\n",
    "# Define the target column\n",
    "target_column = 'is_fraud'\n",
    "\n",
    "# Query to count the occurrences of each class\n",
    "class_counts = spark.sql(f\"\"\"\n",
    "    SELECT {target_column}, COUNT(*) as count\n",
    "    FROM data_view\n",
    "    GROUP BY {target_column}\n",
    "\"\"\")\n",
    "\n",
    "class_counts.show()\n",
    "\n",
    "# Convert Spark DataFrame to Pandas DataFrame\n",
    "class_counts_pd = class_counts.toPandas()\n",
    "\n",
    "# Prepare data for the pie chart\n",
    "labels = class_counts_pd[target_column].astype(str)\n",
    "sizes = class_counts_pd['count']\n",
    "colors = ['#ff9999', '#66b3ff']  # Colors for the pie chart segments\n",
    "\n",
    "# Plot pie chart\n",
    "plt.figure(figsize=(8, 8))\n",
    "plt.pie(sizes, labels=labels, colors=colors, autopct='%1.1f%%', startangle=140)\n",
    "plt.title('Class Distribution')\n",
    "plt.axis('equal')  # Equal aspect ratio ensures the pie is drawn as a circle.\n",
    "\n",
    "# Show the pie chart\n",
    "plt.show()"
   ]
  },
  {
   "cell_type": "markdown",
   "id": "03df9127",
   "metadata": {},
   "source": []
  },
  {
   "cell_type": "markdown",
   "id": "10fa34e2",
   "metadata": {},
   "source": [
    "## Save DataFrame into Parquet and CSV file for next tasks"
   ]
  },
  {
   "cell_type": "code",
   "execution_count": 13,
   "id": "63e05034",
   "metadata": {},
   "outputs": [
    {
     "name": "stderr",
     "output_type": "stream",
     "text": [
      "                                                                                \r"
     ]
    }
   ],
   "source": [
    "# Save the DataFrame as a Parquet file in HDFS\n",
    "df.write.parquet(\"hdfs:///user/student/transactions_new/updated_fraud_data_parquet\", mode=\"overwrite\")\n",
    "# Save the DataFrame as a CSV file in HDFS\n",
    "df.write.csv(\"hdfs:///user/student/transactions_new/updated_fraud_data_csv\", mode=\"overwrite\", header=True)"
   ]
  },
  {
   "cell_type": "markdown",
   "id": "74bb8407",
   "metadata": {},
   "source": [
    "## Preparations for machine learning"
   ]
  },
  {
   "cell_type": "markdown",
   "id": "0d1a607b",
   "metadata": {},
   "source": [
    "### Indexing and Encoding Categorical Data for Machine Learning"
   ]
  },
  {
   "cell_type": "code",
   "execution_count": 14,
   "id": "c80c16e2",
   "metadata": {
    "scrolled": true
   },
   "outputs": [
    {
     "name": "stderr",
     "output_type": "stream",
     "text": [
      "2024-09-16 14:00:38,828 WARN util.package: Truncated the string representation of a plan since it was too large. This behavior can be adjusted by setting 'spark.sql.debug.maxToStringFields'.\n"
     ]
    },
    {
     "name": "stdout",
     "output_type": "stream",
     "text": [
      "+-------------------------------------------------------------------------------------------------------------------------------------------------------------------------------+------+----------+--------+-------+--------+---------+----------+-----------------+----------------+--------------+-----------------+---------------+-----------------+\n",
      "|features                                                                                                                                                                       |amt   |trans_hour|city_pop|lat    |lon     |merch_lat|merch_long|merchant_encoded |category_encoded|gender_encoded|city_encoded     |state_encoded  |job_encoded      |\n",
      "+-------------------------------------------------------------------------------------------------------------------------------------------------------------------------------+------+----------+--------+-------+--------+---------+----------+-----------------+----------------+--------------+-----------------+---------------+-----------------+\n",
      "|(2149,[0,2,3,4,5,6,578,710,712,971,1618,1797],[4.96999979019165,3495.0,36.078800201416016,-81.1781005859375,36.01129913330078,-82.04830169677734,1.0,1.0,1.0,1.0,1.0,1.0])     |4.97  |0         |3495    |36.0788|-81.1781|36.0113  |-82.0483  |(692,[571],[1.0])|(13,[11],[1.0]) |(1,[0],[1.0]) |(893,[258],[1.0])|(50,[12],[1.0])|(493,[141],[1.0])|\n",
      "|(2149,[0,2,3,4,5,6,326,705,1511,1651,2113],[220.11000061035156,4154.0,42.18080139160156,-112.26200103759766,43.150699615478516,-112.15399932861328,1.0,1.0,1.0,1.0,1.0])       |220.11|0         |4154    |42.1808|-112.262|43.1507  |-112.154  |(692,[319],[1.0])|(13,[6],[1.0])  |(1,[],[])     |(893,[798],[1.0])|(50,[45],[1.0])|(493,[457],[1.0])|\n",
      "|(2149,[0,2,3,4,5,6,47,699,1534,1645,1888],[45.0,1939.0,46.23059844970703,-112.11399841308594,47.0343017578125,-112.56099700927734,1.0,1.0,1.0,1.0,1.0])                        |45.0  |0         |1939    |46.2306|-112.114|47.0343  |-112.561  |(692,[40],[1.0]) |(13,[0],[1.0])  |(1,[],[])     |(893,[821],[1.0])|(50,[39],[1.0])|(493,[232],[1.0])|\n",
      "|(2149,[0,2,3,4,5,6,526,709,985,1620,1953],[41.959999084472656,99.0,38.42070007324219,-79.46289825439453,38.67499923706055,-78.63249969482422,1.0,1.0,1.0,1.0,1.0])             |41.96 |0         |99      |38.4207|-79.4629|38.675   |-78.6325  |(692,[519],[1.0])|(13,[10],[1.0]) |(1,[],[])     |(893,[272],[1.0])|(50,[14],[1.0])|(493,[297],[1.0])|\n",
      "|(2149,[0,2,3,4,5,6,16,699,712,1366,1608,1896],[94.62999725341797,2158.0,40.375,-75.20449829101562,40.65340042114258,-76.15270233154297,1.0,1.0,1.0,1.0,1.0,1.0])               |94.63 |0         |2158    |40.375 |-75.2045|40.6534  |-76.1527  |(692,[9],[1.0])  |(13,[0],[1.0])  |(1,[0],[1.0]) |(893,[653],[1.0])|(50,[2],[1.0]) |(493,[240],[1.0])|\n",
      "|(2149,[0,2,3,4,5,6,629,711,712,909,1631,1804],[44.540000915527344,2691.0,37.993099212646484,-100.98899841308594,37.16270065307617,-100.15299987792969,1.0,1.0,1.0,1.0,1.0,1.0])|44.54 |0         |2691    |37.9931|-100.989|37.1627  |-100.153  |(692,[622],[1.0])|(13,[12],[1.0]) |(1,[0],[1.0]) |(893,[196],[1.0])|(50,[25],[1.0])|(493,[148],[1.0])|\n",
      "|(2149,[0,2,3,4,5,6,28,699,1218,1620,2029],[71.6500015258789,6018.0,38.84320068359375,-78.60030364990234,38.94810104370117,-78.54029846191406,1.0,1.0,1.0,1.0,1.0])             |71.65 |0         |6018    |38.8432|-78.6003|38.9481  |-78.5403  |(692,[21],[1.0]) |(13,[0],[1.0])  |(1,[],[])     |(893,[505],[1.0])|(50,[14],[1.0])|(493,[373],[1.0])|\n",
      "|(2149,[0,2,3,4,5,6,505,709,712,1334,1608,1947],[4.269999980926514,1472.0,40.335899353027344,-79.66069793701172,40.35179901123047,-79.95809936523438,1.0,1.0,1.0,1.0,1.0,1.0])  |4.27  |0         |1472    |40.3359|-79.6607|40.3518  |-79.9581  |(692,[498],[1.0])|(13,[10],[1.0]) |(1,[0],[1.0]) |(893,[621],[1.0])|(50,[2],[1.0]) |(493,[291],[1.0])|\n",
      "|(2149,[0,2,3,4,5,6,114,700,712,1008,1637,2035],[198.38999938964844,151785.0,36.52199935913086,-87.3489990234375,37.17919921875,-87.48539733886719,1.0,1.0,1.0,1.0,1.0,1.0])    |198.39|0         |151785  |36.522 |-87.349 |37.1792  |-87.4854  |(692,[107],[1.0])|(13,[1],[1.0])  |(1,[0],[1.0]) |(893,[295],[1.0])|(50,[31],[1.0])|(493,[379],[1.0])|\n",
      "|(2149,[0,2,3,4,5,6,99,700,982,1624,1663],[24.739999771118164,7297.0,40.74909973144531,-95.03800201416016,40.275901794433594,-96.0115966796875,1.0,1.0,1.0,1.0,1.0])            |24.74 |0         |7297    |40.7491|-95.038 |40.2759  |-96.0116  |(692,[92],[1.0]) |(13,[1],[1.0])  |(1,[],[])     |(893,[269],[1.0])|(50,[18],[1.0])|(493,[7],[1.0])  |\n",
      "|(2149,[0,2,3,4,5,6,378,704,712,979,1628,1662],[7.769999980926514,1925.0,39.37160110473633,-77.8228988647461,40.10390090942383,-78.62449645996094,1.0,1.0,1.0,1.0,1.0,1.0])     |7.77  |0         |1925    |39.3716|-77.8229|40.1039  |-78.6245  |(692,[371],[1.0])|(13,[5],[1.0])  |(1,[0],[1.0]) |(893,[266],[1.0])|(50,[22],[1.0])|(493,[6],[1.0])  |\n",
      "|(2149,[0,2,3,4,5,6,95,700,967,1613,1835],[71.22000122070312,341043.0,27.7898006439209,-82.72429656982422,27.630599975585938,-82.30889892578125,1.0,1.0,1.0,1.0,1.0])           |71.22 |0         |341043  |27.7898|-82.7243|27.6306  |-82.3089  |(692,[88],[1.0]) |(13,[1],[1.0])  |(1,[],[])     |(893,[254],[1.0])|(50,[7],[1.0]) |(493,[179],[1.0])|\n",
      "|(2149,[0,2,3,4,5,6,125,700,1017,1609,1782],[96.29000091552734,589.0,41.61249923706055,-122.5260009765625,41.657501220703125,-122.2300033569336,1.0,1.0,1.0,1.0,1.0])           |96.29 |0         |589     |41.6125|-122.526|41.6575  |-122.23   |(692,[118],[1.0])|(13,[1],[1.0])  |(1,[],[])     |(893,[304],[1.0])|(50,[3],[1.0]) |(493,[126],[1.0])|\n",
      "|(2149,[0,2,3,4,5,6,169,702,887,1639,1658],[7.769999980926514,899.0,32.93960189819336,-105.81900024414062,32.86330032348633,-106.5199966430664,1.0,1.0,1.0,1.0,1.0])            |7.77  |0         |899     |32.9396|-105.819|32.8633  |-106.52   |(692,[162],[1.0])|(13,[3],[1.0])  |(1,[],[])     |(893,[174],[1.0])|(50,[33],[1.0])|(493,[2],[1.0])  |\n",
      "|(2149,[0,2,3,4,5,6,290,704,1151,1629,1829],[3.259999990463257,4664.0,40.991798400878906,-73.9800033569336,41.831199645996094,-74.33560180664062,1.0,1.0,1.0,1.0,1.0])          |3.26  |0         |4664    |40.9918|-73.98  |41.8312  |-74.3356  |(692,[283],[1.0])|(13,[5],[1.0])  |(1,[],[])     |(893,[438],[1.0])|(50,[23],[1.0])|(493,[173],[1.0])|\n",
      "|(2149,[0,2,3,4,5,6,552,710,712,729,1625,1744],[327.0,1078.0,36.3849983215332,-98.07270050048828,36.38410186767578,-99.04850006103516,1.0,1.0,1.0,1.0,1.0,1.0])                 |327.0 |0         |1078    |36.385 |-98.0727|36.3841  |-99.0485  |(692,[545],[1.0])|(13,[11],[1.0]) |(1,[0],[1.0]) |(893,[16],[1.0]) |(50,[19],[1.0])|(493,[88],[1.0]) |\n",
      "|(2149,[0,2,3,4,5,6,178,702,1222,1623,1690],[341.6700134277344,4081.0,38.97629928588867,-87.36669921875,38.67449951171875,-88.30580139160156,1.0,1.0,1.0,1.0,1.0])              |341.67|0         |4081    |38.9763|-87.3667|38.6745  |-88.3058  |(692,[171],[1.0])|(13,[3],[1.0])  |(1,[],[])     |(893,[509],[1.0])|(50,[17],[1.0])|(493,[34],[1.0]) |\n",
      "|(2149,[0,2,3,4,5,6,355,706,1018,1608,1969],[63.06999969482422,2518.0,42.176700592041016,-79.94159698486328,41.430301666259766,-79.49259948730469,1.0,1.0,1.0,1.0,1.0])         |63.07 |0         |2518    |42.1767|-79.9416|41.4303  |-79.4926  |(692,[348],[1.0])|(13,[7],[1.0])  |(1,[],[])     |(893,[305],[1.0])|(50,[2],[1.0]) |(493,[313],[1.0])|\n",
      "|(2149,[0,2,3,4,5,6,156,700,818,1629,1861],[44.709999084472656,124967.0,40.67470169067383,-74.2238998413086,40.0796012878418,-74.84809875488281,1.0,1.0,1.0,1.0,1.0])           |44.71 |0         |124967  |40.6747|-74.2239|40.0796  |-74.8481  |(692,[149],[1.0])|(13,[1],[1.0])  |(1,[],[])     |(893,[105],[1.0])|(50,[23],[1.0])|(493,[205],[1.0])|\n",
      "|(2149,[0,2,3,4,5,6,78,700,905,1642,1846],[57.34000015258789,47249.0,42.72800064086914,-71.18099975585938,42.268798828125,-71.21730041503906,1.0,1.0,1.0,1.0,1.0])              |57.34 |0         |47249   |42.728 |-71.181 |42.2688  |-71.2173  |(692,[71],[1.0]) |(13,[1],[1.0])  |(1,[],[])     |(893,[192],[1.0])|(50,[36],[1.0])|(493,[190],[1.0])|\n",
      "+-------------------------------------------------------------------------------------------------------------------------------------------------------------------------------+------+----------+--------+-------+--------+---------+----------+-----------------+----------------+--------------+-----------------+---------------+-----------------+\n",
      "only showing top 20 rows\n",
      "\n"
     ]
    }
   ],
   "source": [
    "# Added a new column to calculate the transaction hour\n",
    "transformed_df = df.withColumn(\"trans_hour\", col(\"trans_date_trans_time\").substr(12, 2).cast('int'))\n",
    "\n",
    "\n",
    "# List of categorical columns\n",
    "categorical_columns = ['merchant', 'category', 'gender', 'city', 'state', 'job']\n",
    "\n",
    "# Index and encode categorical columns\n",
    "indexers = []\n",
    "encoders = []\n",
    "\n",
    "for col_name in categorical_columns:\n",
    "    indexer = StringIndexer(inputCol=col_name, outputCol=col_name + \"_index\")\n",
    "    encoder = OneHotEncoder(inputCols=[col_name + \"_index\"], outputCols=[col_name + \"_encoded\"])\n",
    "    \n",
    "    indexers.append(indexer)\n",
    "    encoders.append(encoder)\n",
    "    \n",
    "    transformed_df = indexer.fit(transformed_df).transform(transformed_df)\n",
    "    transformed_df = encoder.fit(transformed_df).transform(transformed_df)\n",
    "\n",
    "# Select feature columns, including encoded categorical features\n",
    "feature_columns = ['amt', 'trans_hour', 'city_pop', 'lat', 'lon', 'merch_lat', 'merch_long'] \\\n",
    "    + [col + \"_encoded\" for col in categorical_columns]\n",
    "\n",
    "# Apply VectorAssembler\n",
    "assembler = VectorAssembler(inputCols=feature_columns, outputCol=\"features\")\n",
    "ml_data = assembler.transform(transformed_df)\n",
    "\n",
    "# Show the resulting DataFrame with the \"features\" vector column\n",
    "ml_data.select(\"features\", *feature_columns).show(truncate=False)\n"
   ]
  },
  {
   "cell_type": "markdown",
   "id": "973695b4",
   "metadata": {},
   "source": [
    "### Splitting Data into Training and Testing Sets for Model Evaluation"
   ]
  },
  {
   "cell_type": "code",
   "execution_count": 15,
   "id": "7897504c",
   "metadata": {},
   "outputs": [],
   "source": [
    "target_column = 'is_fraud'\n",
    "train_data, test_data = ml_data.randomSplit([0.5, 0.5])"
   ]
  },
  {
   "cell_type": "markdown",
   "id": "832bec5a",
   "metadata": {},
   "source": [
    "## Training and Evaluating the Logistic Regression Model (for test purpose only)"
   ]
  },
  {
   "cell_type": "code",
   "execution_count": 16,
   "id": "136a1a02",
   "metadata": {},
   "outputs": [
    {
     "name": "stderr",
     "output_type": "stream",
     "text": [
      "2024-09-16 14:01:48,927 WARN netlib.BLAS: Failed to load implementation from: com.github.fommil.netlib.NativeSystemBLAS\n",
      "2024-09-16 14:01:48,928 WARN netlib.BLAS: Failed to load implementation from: com.github.fommil.netlib.NativeRefBLAS\n",
      "                                                                                \r"
     ]
    },
    {
     "name": "stdout",
     "output_type": "stream",
     "text": [
      "Logistic Regression Accuracy: 0.9948293101426376\n",
      "Logistic Regression Precision: 0.995292866823365\n",
      "Logistic Regression Recall: 0.9995266635835136\n",
      "Logistic Regression F1 Score: 0.9933228641659783\n"
     ]
    },
    {
     "name": "stderr",
     "output_type": "stream",
     "text": [
      "                                                                                \r"
     ]
    },
    {
     "name": "stdout",
     "output_type": "stream",
     "text": [
      "+----------+--------+-----------------------------------------------------------------------------------------------------------------------------------------------------------------------------+\n",
      "|prediction|is_fraud|features                                                                                                                                                                     |\n",
      "+----------+--------+-----------------------------------------------------------------------------------------------------------------------------------------------------------------------------+\n",
      "|0.0       |0       |(2149,[0,2,3,4,5,6,326,705,1511,1651,2113],[220.11000061035156,4154.0,42.18080139160156,-112.26200103759766,43.150699615478516,-112.15399932861328,1.0,1.0,1.0,1.0,1.0])     |\n",
      "|0.0       |0       |(2149,[0,2,3,4,5,6,526,709,985,1620,1953],[41.959999084472656,99.0,38.42070007324219,-79.46289825439453,38.67499923706055,-78.63249969482422,1.0,1.0,1.0,1.0,1.0])           |\n",
      "|0.0       |0       |(2149,[0,2,3,4,5,6,16,699,712,1366,1608,1896],[94.62999725341797,2158.0,40.375,-75.20449829101562,40.65340042114258,-76.15270233154297,1.0,1.0,1.0,1.0,1.0,1.0])             |\n",
      "|0.0       |0       |(2149,[0,2,3,4,5,6,28,699,1218,1620,2029],[71.6500015258789,6018.0,38.84320068359375,-78.60030364990234,38.94810104370117,-78.54029846191406,1.0,1.0,1.0,1.0,1.0])           |\n",
      "|0.0       |0       |(2149,[0,2,3,4,5,6,505,709,712,1334,1608,1947],[4.269999980926514,1472.0,40.335899353027344,-79.66069793701172,40.35179901123047,-79.95809936523438,1.0,1.0,1.0,1.0,1.0,1.0])|\n",
      "|0.0       |0       |(2149,[0,2,3,4,5,6,114,700,712,1008,1637,2035],[198.38999938964844,151785.0,36.52199935913086,-87.3489990234375,37.17919921875,-87.48539733886719,1.0,1.0,1.0,1.0,1.0,1.0])  |\n",
      "|0.0       |0       |(2149,[0,2,3,4,5,6,378,704,712,979,1628,1662],[7.769999980926514,1925.0,39.37160110473633,-77.8228988647461,40.10390090942383,-78.62449645996094,1.0,1.0,1.0,1.0,1.0,1.0])   |\n",
      "|0.0       |0       |(2149,[0,2,3,4,5,6,169,702,887,1639,1658],[7.769999980926514,899.0,32.93960189819336,-105.81900024414062,32.86330032348633,-106.5199966430664,1.0,1.0,1.0,1.0,1.0])          |\n",
      "|0.0       |0       |(2149,[0,2,3,4,5,6,290,704,1151,1629,1829],[3.259999990463257,4664.0,40.991798400878906,-73.9800033569336,41.831199645996094,-74.33560180664062,1.0,1.0,1.0,1.0,1.0])        |\n",
      "|0.0       |0       |(2149,[0,2,3,4,5,6,552,710,712,729,1625,1744],[327.0,1078.0,36.3849983215332,-98.07270050048828,36.38410186767578,-99.04850006103516,1.0,1.0,1.0,1.0,1.0,1.0])               |\n",
      "+----------+--------+-----------------------------------------------------------------------------------------------------------------------------------------------------------------------------+\n",
      "only showing top 10 rows\n",
      "\n"
     ]
    },
    {
     "name": "stderr",
     "output_type": "stream",
     "text": [
      "2024-09-16 14:03:53,465 WARN expressions.RowBasedKeyValueBatch: Calling spill() on RowBasedKeyValueBatch. Will not spill but return 0.\n",
      "2024-09-16 14:03:53,649 WARN expressions.RowBasedKeyValueBatch: Calling spill() on RowBasedKeyValueBatch. Will not spill but return 0.\n",
      "2024-09-16 14:03:53,708 WARN expressions.RowBasedKeyValueBatch: Calling spill() on RowBasedKeyValueBatch. Will not spill but return 0.\n",
      "2024-09-16 14:03:54,019 WARN expressions.RowBasedKeyValueBatch: Calling spill() on RowBasedKeyValueBatch. Will not spill but return 0.\n",
      "2024-09-16 14:03:57,346 WARN expressions.RowBasedKeyValueBatch: Calling spill() on RowBasedKeyValueBatch. Will not spill but return 0.\n",
      "2024-09-16 14:03:57,412 WARN expressions.RowBasedKeyValueBatch: Calling spill() on RowBasedKeyValueBatch. Will not spill but return 0.\n",
      "2024-09-16 14:03:57,584 WARN expressions.RowBasedKeyValueBatch: Calling spill() on RowBasedKeyValueBatch. Will not spill but return 0.\n",
      "2024-09-16 14:03:57,967 WARN expressions.RowBasedKeyValueBatch: Calling spill() on RowBasedKeyValueBatch. Will not spill but return 0.\n",
      "2024-09-16 14:03:59,551 WARN expressions.RowBasedKeyValueBatch: Calling spill() on RowBasedKeyValueBatch. Will not spill but return 0.\n",
      "2024-09-16 14:03:59,803 WARN expressions.RowBasedKeyValueBatch: Calling spill() on RowBasedKeyValueBatch. Will not spill but return 0.\n",
      "2024-09-16 14:03:59,881 WARN expressions.RowBasedKeyValueBatch: Calling spill() on RowBasedKeyValueBatch. Will not spill but return 0.\n",
      "2024-09-16 14:04:00,361 WARN expressions.RowBasedKeyValueBatch: Calling spill() on RowBasedKeyValueBatch. Will not spill but return 0.\n",
      "2024-09-16 14:04:02,121 WARN expressions.RowBasedKeyValueBatch: Calling spill() on RowBasedKeyValueBatch. Will not spill but return 0.\n",
      "2024-09-16 14:04:02,304 WARN expressions.RowBasedKeyValueBatch: Calling spill() on RowBasedKeyValueBatch. Will not spill but return 0.\n",
      "2024-09-16 14:04:02,358 WARN expressions.RowBasedKeyValueBatch: Calling spill() on RowBasedKeyValueBatch. Will not spill but return 0.\n",
      "2024-09-16 14:04:02,956 WARN expressions.RowBasedKeyValueBatch: Calling spill() on RowBasedKeyValueBatch. Will not spill but return 0.\n",
      "                                                                                \r"
     ]
    },
    {
     "name": "stdout",
     "output_type": "stream",
     "text": [
      "+--------+----------+------+\n",
      "|is_fraud|prediction| count|\n",
      "+--------+----------+------+\n",
      "|       1|       0.0|  3046|\n",
      "|       0|       0.0|644057|\n",
      "|       1|       1.0|   668|\n",
      "|       0|       1.0|   305|\n",
      "+--------+----------+------+\n",
      "\n"
     ]
    }
   ],
   "source": [
    "# Initialize and train the Logistic Regression model\n",
    "lr = LogisticRegression(featuresCol='features', labelCol=target_column)\n",
    "lr_model = lr.fit(train_data)\n",
    "\n",
    "# Make predictions\n",
    "lr_predictions = lr_model.transform(test_data)\n",
    "\n",
    "# Initialize evaluators\n",
    "accuracy_evaluator = MulticlassClassificationEvaluator(labelCol=target_column, predictionCol=\"prediction\", metricName=\"accuracy\")\n",
    "precision_evaluator = MulticlassClassificationEvaluator(labelCol=target_column, predictionCol=\"prediction\", metricName=\"precisionByLabel\")\n",
    "recall_evaluator = MulticlassClassificationEvaluator(labelCol=target_column, predictionCol=\"prediction\", metricName=\"recallByLabel\")\n",
    "f1_evaluator = MulticlassClassificationEvaluator(labelCol=target_column, predictionCol=\"prediction\", metricName=\"f1\")\n",
    "\n",
    "# Calculate metrics\n",
    "accuracy = accuracy_evaluator.evaluate(lr_predictions)\n",
    "precision = precision_evaluator.evaluate(lr_predictions)\n",
    "recall = recall_evaluator.evaluate(lr_predictions)\n",
    "f1_score = f1_evaluator.evaluate(lr_predictions)\n",
    "\n",
    "# Print metrics\n",
    "print(f\"Logistic Regression Accuracy: {accuracy}\")\n",
    "print(f\"Logistic Regression Precision: {precision}\")\n",
    "print(f\"Logistic Regression Recall: {recall}\")\n",
    "print(f\"Logistic Regression F1 Score: {f1_score}\")\n",
    "\n",
    "# Show a sample of predictions\n",
    "lr_predictions.select(\"prediction\", target_column, \"features\").show(10, truncate=False)\n",
    "\n",
    "# Create and show the confusion matrix\n",
    "confusion_matrix = lr_predictions.groupBy(target_column, \"prediction\").count()\n",
    "confusion_matrix.show()"
   ]
  },
  {
   "cell_type": "markdown",
   "id": "ec25aac6",
   "metadata": {},
   "source": [
    "### Visualizing the Confusion Matrix for Model Performance"
   ]
  },
  {
   "cell_type": "code",
   "execution_count": 17,
   "id": "fbb0750c",
   "metadata": {},
   "outputs": [
    {
     "name": "stderr",
     "output_type": "stream",
     "text": [
      "                                                                                \r"
     ]
    },
    {
     "data": {
      "image/png": "[encoded data removed]",
      "text/plain": [
       "<Figure size 576x432 with 1 Axes>"
      ]
     },
     "metadata": {
      "needs_background": "light"
     },
     "output_type": "display_data"
    }
   ],
   "source": [
    "import matplotlib.pyplot as plt\n",
    "import seaborn as sns\n",
    "from sklearn.metrics import confusion_matrix\n",
    "\n",
    "# Convert Spark DataFrame to Pandas DataFrame\n",
    "predictions_and_labels = lr_predictions.select(col(\"prediction\"), col(target_column)).rdd\n",
    "prediction_df = predictions_and_labels.toDF([\"prediction\", \"label\"]).toPandas()\n",
    "\n",
    "# Compute confusion matrix\n",
    "conf_matrix = confusion_matrix(prediction_df[\"label\"], prediction_df[\"prediction\"])\n",
    "\n",
    "# Create a DataFrame for visualization\n",
    "conf_matrix_df = pd.DataFrame(conf_matrix, index=[\"True Negative\", \"False Positive\"], columns=[\"False Negative\", \"True Positive\"])\n",
    "\n",
    "# Plot confusion matrix\n",
    "plt.figure(figsize=(8, 6))\n",
    "sns.heatmap(conf_matrix_df, annot=True, fmt='d', cmap='Blues', cbar=False, annot_kws={\"size\": 16})\n",
    "plt.title('Confusion Matrix')\n",
    "plt.xlabel('Predicted Labels')\n",
    "plt.ylabel('True Labels')\n",
    "plt.show()"
   ]
  }
 ],
 "metadata": {
  "kernelspec": {
   "display_name": "Python 3 (ipykernel)",
   "language": "python",
   "name": "python3"
  },
  "language_info": {
   "codemirror_mode": {
    "name": "ipython",
    "version": 3
   },
   "file_extension": ".py",
   "mimetype": "text/x-python",
   "name": "python",
   "nbconvert_exporter": "python",
   "pygments_lexer": "ipython3",
   "version": "3.8.11"
  }
 },
 "nbformat": 4,
 "nbformat_minor": 5
}
