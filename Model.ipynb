{
 "cells": [
  {
   "cell_type": "markdown",
   "id": "9eba3324",
   "metadata": {},
   "source": [
    "# Import Libraries"
   ]
  },
  {
   "cell_type": "code",
   "execution_count": 12,
   "id": "9ab31dc5",
   "metadata": {},
   "outputs": [],
   "source": [
    "from pyspark.ml.feature import StringIndexer, OneHotEncoder, VectorAssembler\n",
    "from pyspark.sql.functions import col, when\n",
    "from pyspark.sql.types import StructType, ArrayType\n",
    "from pyspark.ml.classification import LogisticRegression\n",
    "from pyspark.ml.evaluation import MulticlassClassificationEvaluator, BinaryClassificationEvaluator\n",
    "import matplotlib.pyplot as plt\n",
    "import seaborn as sns\n",
    "from sklearn.metrics import confusion_matrix as sk_confusion_matrix\n",
    "import pandas as pd"
   ]
  },
  {
   "cell_type": "markdown",
   "id": "98929626",
   "metadata": {},
   "source": [
    "# Model Training"
   ]
  },
  {
   "cell_type": "code",
   "execution_count": 3,
   "id": "f3b7bb1b",
   "metadata": {},
   "outputs": [
    {
     "name": "stderr",
     "output_type": "stream",
     "text": [
      "2024-09-18 23:14:04,655 WARN netlib.BLAS: Failed to load implementation from: com.github.fommil.netlib.NativeSystemBLAS\n",
      "2024-09-18 23:14:04,656 WARN netlib.BLAS: Failed to load implementation from: com.github.fommil.netlib.NativeRefBLAS\n",
      "                                                                                \r"
     ]
    }
   ],
   "source": [
    "# Define the path to the CSV file in HDFS\n",
    "csv_path = \"hdfs:///user/student/transactions_new/updated_fraud_data_csv\"\n",
    "\n",
    "# Read the CSV file into a DataFrame\n",
    "df = spark.read.csv(csv_path, header=True, inferSchema=True)\n",
    "\n",
    "# Added a new column to calculate the transaction hour\n",
    "transformed_df = df.withColumn(\"trans_hour\", col(\"trans_date_trans_time\").substr(12, 2).cast('int'))\n",
    "\n",
    "# List of categorical columns\n",
    "categorical_columns = ['merchant', 'category', 'gender', 'city', 'state', 'job']\n",
    "\n",
    "# Index and encode categorical columns\n",
    "indexers = []\n",
    "encoders = []\n",
    "\n",
    "for col_name in categorical_columns:\n",
    "    indexer = StringIndexer(inputCol=col_name, outputCol=col_name + \"_index\")\n",
    "    encoder = OneHotEncoder(inputCols=[col_name + \"_index\"], outputCols=[col_name + \"_encoded\"])\n",
    "    \n",
    "    indexers.append(indexer)\n",
    "    encoders.append(encoder)\n",
    "    \n",
    "    transformed_df = indexer.fit(transformed_df).transform(transformed_df)\n",
    "    transformed_df = encoder.fit(transformed_df).transform(transformed_df)\n",
    "\n",
    "# Select feature columns, including encoded categorical features\n",
    "feature_columns = ['amt', 'trans_hour', 'city_pop', 'lat', 'lon', 'merch_lat', 'merch_long'] \\\n",
    "    + [col + \"_encoded\" for col in categorical_columns]\n",
    "\n",
    "# Apply VectorAssembler\n",
    "assembler = VectorAssembler(inputCols=feature_columns, outputCol=\"features\")\n",
    "ml_data = assembler.transform(transformed_df)\n",
    "\n",
    "# Handling class imbalance by adding class weights\n",
    "fraud_ratio = ml_data.filter(col('is_fraud') == 1).count() / ml_data.count()\n",
    "ml_data = ml_data.withColumn(\"class_weight\", when(col(\"is_fraud\") == 1, 1 / fraud_ratio).otherwise(1.0))\n",
    "\n",
    "# Split the data into 50% train and 50% test\n",
    "train_data, test_data = ml_data.randomSplit([0.5, 0.5])\n",
    "\n",
    "# Initialize and train the Logistic Regression model with regularization\n",
    "lr = LogisticRegression(featuresCol='features', labelCol='is_fraud', weightCol=\"class_weight\", regParam=0.01, elasticNetParam=0.8)\n",
    "lr_model = lr.fit(train_data)\n",
    "\n",
    "# Make predictions on the test data\n",
    "lr_predictions = lr_model.transform(test_data)"
   ]
  },
  {
   "cell_type": "markdown",
   "id": "bf1aee65",
   "metadata": {},
   "source": [
    "# Model Evaluation"
   ]
  },
  {
   "cell_type": "markdown",
   "id": "af18f371",
   "metadata": {},
   "source": [
    "## Metrics"
   ]
  },
  {
   "cell_type": "code",
   "execution_count": 4,
   "id": "e4de598f",
   "metadata": {},
   "outputs": [
    {
     "name": "stderr",
     "output_type": "stream",
     "text": [
      "                                                                                \r"
     ]
    },
    {
     "name": "stdout",
     "output_type": "stream",
     "text": [
      "Logistic Regression Accuracy: 0.943574977869214\n",
      "Logistic Regression Precision (Fraud Class): 0.07409527278403621\n",
      "Logistic Regression Recall (Fraud Class): 0.7405096203848154\n",
      "Logistic Regression F1 Score: 0.9658772654262019\n",
      "Logistic Regression ROC-AUC: 0.9054198997980464\n"
     ]
    }
   ],
   "source": [
    "# Initialize evaluators\n",
    "accuracy_evaluator = MulticlassClassificationEvaluator(labelCol=\"is_fraud\", predictionCol=\"prediction\", metricName=\"accuracy\")\n",
    "precision_evaluator = MulticlassClassificationEvaluator(labelCol=\"is_fraud\", predictionCol=\"prediction\", metricName=\"precisionByLabel\")\n",
    "recall_evaluator = MulticlassClassificationEvaluator(labelCol=\"is_fraud\", predictionCol=\"prediction\", metricName=\"recallByLabel\")\n",
    "f1_evaluator = MulticlassClassificationEvaluator(labelCol=\"is_fraud\", predictionCol=\"prediction\", metricName=\"f1\")\n",
    "roc_evaluator = BinaryClassificationEvaluator(labelCol=\"is_fraud\", rawPredictionCol=\"rawPrediction\", metricName=\"areaUnderROC\")\n",
    "\n",
    "# Calculate metrics\n",
    "accuracy = accuracy_evaluator.evaluate(lr_predictions)\n",
    "precision = precision_evaluator.evaluate(lr_predictions, {precision_evaluator.metricLabel: 1.0})  # for class 1 (fraud)\n",
    "recall = recall_evaluator.evaluate(lr_predictions, {recall_evaluator.metricLabel: 1.0})  # for class 1 (fraud)\n",
    "f1_score = f1_evaluator.evaluate(lr_predictions)\n",
    "roc_auc = roc_evaluator.evaluate(lr_predictions)\n",
    "\n",
    "# Print metrics\n",
    "print(f\"Logistic Regression Accuracy: {accuracy}\")\n",
    "print(f\"Logistic Regression Precision (Fraud Class): {precision}\")\n",
    "print(f\"Logistic Regression Recall (Fraud Class): {recall}\")\n",
    "print(f\"Logistic Regression F1 Score: {f1_score}\")\n",
    "print(f\"Logistic Regression ROC-AUC: {roc_auc}\")"
   ]
  },
  {
   "cell_type": "markdown",
   "id": "e664bd73",
   "metadata": {},
   "source": [
    "## Confusion Matrix and Plot"
   ]
  },
  {
   "cell_type": "code",
   "execution_count": 21,
   "id": "1b361e20",
   "metadata": {},
   "outputs": [
    {
     "name": "stderr",
     "output_type": "stream",
     "text": [
      "                                                                                \r"
     ]
    },
    {
     "data": {
      "image/png": "[encoded data removed]",
      "text/plain": [
       "<Figure size 576x432 with 1 Axes>"
      ]
     },
     "metadata": {
      "needs_background": "light"
     },
     "output_type": "display_data"
    }
   ],
   "source": [
    "# Create and show the confusion matrix\n",
    "confusion_matrix_df = lr_predictions.groupBy(\"is_fraud\", \"prediction\").count()\n",
    "\n",
    "# Convert Spark DataFrame to Pandas DataFrame for confusion matrix\n",
    "predictions_and_labels = lr_predictions.select(col(\"prediction\"), col(\"is_fraud\")).rdd\n",
    "prediction_df = predictions_and_labels.toDF([\"prediction\", \"label\"]).toPandas()\n",
    "\n",
    "# Compute confusion matrix\n",
    "conf_matrix = sk_confusion_matrix(prediction_df[\"label\"], prediction_df[\"prediction\"])\n",
    "\n",
    "# Create a DataFrame for visualization\n",
    "conf_matrix_df = pd.DataFrame(conf_matrix, index=[\"True Negative\", \"False Positive\"], columns=[\"False Negative\", \"True Positive\"])\n",
    "\n",
    "# Plot confusion matrix\n",
    "plt.figure(figsize=(8, 6))\n",
    "sns.heatmap(conf_matrix_df, annot=True, fmt='d', cmap='Blues', cbar=False, annot_kws={\"size\": 16})\n",
    "plt.title('Confusion Matrix')\n",
    "plt.xlabel('Predicted Labels')\n",
    "plt.ylabel('True Labels')\n",
    "plt.savefig(\"confusion_matrix_plot.png\")  # Save the plot as an image file\n",
    "plt.show()"
   ]
  },
  {
   "cell_type": "markdown",
   "id": "078f6637",
   "metadata": {},
   "source": [
    "# Save Files"
   ]
  },
  {
   "cell_type": "code",
   "execution_count": 22,
   "id": "51ed471b",
   "metadata": {},
   "outputs": [],
   "source": [
    "# Convert confusion matrix DataFrame to a Spark DataFrame\n",
    "conf_matrix_spark_df = spark.createDataFrame(conf_matrix_df.reset_index())\n",
    "# Save confusion matrix to CSV in a single partition\n",
    "conf_matrix_spark_df.repartition(1).write.option(\"header\", \"true\").mode(\"overwrite\").csv(\"hdfs:///user/student/transactions_new/confusion_matrix.csv\")\n",
    "\n",
    "# Save evaluation metrics to CSV in a single partition (HDFS)\n",
    "metrics_df = pd.DataFrame({\n",
    "    \"Metric\": [\"Accuracy\", \"Precision (Fraud Class)\", \"Recall (Fraud Class)\", \"F1 Score\", \"ROC-AUC\"],\n",
    "    \"Value\": [accuracy, precision, recall, f1_score, roc_auc]\n",
    "})\n",
    "\n",
    "# Convert metrics DataFrame to Spark DataFrame\n",
    "metrics_spark_df = spark.createDataFrame(metrics_df)\n",
    "\n",
    "# Save evaluation metrics to CSV in a single partition\n",
    "metrics_spark_df.repartition(1).write.option(\"header\", \"true\").mode(\"overwrite\").csv(\"hdfs:///user/student/transactions_new/metrics.csv\")"
   ]
  }
 ],
 "metadata": {
  "kernelspec": {
   "display_name": "Python 3 (ipykernel)",
   "language": "python",
   "name": "python3"
  },
  "language_info": {
   "codemirror_mode": {
    "name": "ipython",
    "version": 3
   },
   "file_extension": ".py",
   "mimetype": "text/x-python",
   "name": "python",
   "nbconvert_exporter": "python",
   "pygments_lexer": "ipython3",
   "version": "3.8.11"
  }
 },
 "nbformat": 4,
 "nbformat_minor": 5
}
