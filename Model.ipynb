{
 "cells": [
  {
   "cell_type": "code",
   "execution_count": 36,
   "id": "8be5c523",
   "metadata": {},
   "outputs": [],
   "source": [
    "from pyspark.ml.feature import StringIndexer, OneHotEncoder, VectorAssembler\n",
    "from pyspark.sql.functions import col, when\n",
    "from pyspark.sql.types import StructType, ArrayType\n",
    "from pyspark.ml.classification import LogisticRegression\n",
    "from pyspark.ml.evaluation import MulticlassClassificationEvaluator, BinaryClassificationEvaluator\n",
    "import matplotlib.pyplot as plt\n",
    "import seaborn as sns\n",
    "from sklearn.metrics import confusion_matrix as sk_confusion_matrix\n",
    "import pandas as pd"
   ]
  },
  {
   "cell_type": "code",
   "execution_count": 37,
   "id": "83cd9389",
   "metadata": {},
   "outputs": [
    {
     "name": "stderr",
     "output_type": "stream",
     "text": [
      "                                                                                \r"
     ]
    }
   ],
   "source": [
    "# Define the path to the CSV file in HDFS\n",
    "csv_path = \"hdfs:///user/student/transactions_new/updated_fraud_data_csv\"\n",
    "\n",
    "# Read the CSV file into a DataFrame\n",
    "df = spark.read.csv(csv_path, header=True, inferSchema=True)\n",
    "\n",
    "# Added a new column to calculate the transaction hour\n",
    "transformed_df = df.withColumn(\"trans_hour\", col(\"trans_date_trans_time\").substr(12, 2).cast('int'))\n",
    "\n",
    "# List of categorical columns\n",
    "categorical_columns = ['merchant', 'category', 'gender', 'city', 'state', 'job']\n",
    "\n",
    "# Index and encode categorical columns\n",
    "indexers = []\n",
    "encoders = []\n",
    "\n",
    "for col_name in categorical_columns:\n",
    "    indexer = StringIndexer(inputCol=col_name, outputCol=col_name + \"_index\")\n",
    "    encoder = OneHotEncoder(inputCols=[col_name + \"_index\"], outputCols=[col_name + \"_encoded\"])\n",
    "    \n",
    "    indexers.append(indexer)\n",
    "    encoders.append(encoder)\n",
    "    \n",
    "    transformed_df = indexer.fit(transformed_df).transform(transformed_df)\n",
    "    transformed_df = encoder.fit(transformed_df).transform(transformed_df)\n",
    "\n",
    "# Select feature columns, including encoded categorical features\n",
    "feature_columns = ['amt', 'trans_hour', 'city_pop', 'lat', 'lon', 'merch_lat', 'merch_long'] \\\n",
    "    + [col + \"_encoded\" for col in categorical_columns]\n",
    "\n",
    "# Apply VectorAssembler\n",
    "assembler = VectorAssembler(inputCols=feature_columns, outputCol=\"features\")\n",
    "ml_data = assembler.transform(transformed_df)\n",
    "\n",
    "# Handling class imbalance by adding class weights\n",
    "fraud_ratio = ml_data.filter(col('is_fraud') == 1).count() / ml_data.count()\n",
    "ml_data = ml_data.withColumn(\"class_weight\", when(col(\"is_fraud\") == 1, 1 / fraud_ratio).otherwise(1.0))\n",
    "\n",
    "# Split the data into train and test\n",
    "train_data, test_data = ml_data.randomSplit([0.5, 0.5])\n",
    "\n",
    "# Initialize and train the Logistic Regression model with regularization\n",
    "lr = LogisticRegression(featuresCol='features', labelCol='is_fraud', weightCol=\"class_weight\", regParam=0.01, elasticNetParam=0.8)\n",
    "lr_model = lr.fit(train_data)\n",
    "\n",
    "# Make predictions on the test data\n",
    "lr_predictions = lr_model.transform(test_data)"
   ]
  },
  {
   "cell_type": "code",
   "execution_count": 38,
   "id": "4769e512",
   "metadata": {},
   "outputs": [
    {
     "name": "stderr",
     "output_type": "stream",
     "text": [
      "                                                                                \r"
     ]
    },
    {
     "name": "stdout",
     "output_type": "stream",
     "text": [
      "Logistic Regression Accuracy: 0.9444492421952588\n",
      "Logistic Regression Precision (Fraud Class): 0.07488859003770798\n",
      "Logistic Regression Recall (Fraud Class): 0.7515215665519979\n",
      "Logistic Regression F1 Score: 0.9664351126175669\n",
      "Logistic Regression ROC-AUC: 0.906394394959031\n"
     ]
    },
    {
     "name": "stderr",
     "output_type": "stream",
     "text": [
      "\r\n",
      "[Stage 1459:>                                                       (0 + 4) / 4]\r\n",
      "\r\n",
      "                                                                                \r"
     ]
    }
   ],
   "source": [
    "# Initialize evaluators\n",
    "accuracy_evaluator = MulticlassClassificationEvaluator(labelCol=\"is_fraud\", predictionCol=\"prediction\", metricName=\"accuracy\")\n",
    "precision_evaluator = MulticlassClassificationEvaluator(labelCol=\"is_fraud\", predictionCol=\"prediction\", metricName=\"precisionByLabel\")\n",
    "recall_evaluator = MulticlassClassificationEvaluator(labelCol=\"is_fraud\", predictionCol=\"prediction\", metricName=\"recallByLabel\")\n",
    "f1_evaluator = MulticlassClassificationEvaluator(labelCol=\"is_fraud\", predictionCol=\"prediction\", metricName=\"f1\")\n",
    "roc_evaluator = BinaryClassificationEvaluator(labelCol=\"is_fraud\", rawPredictionCol=\"rawPrediction\", metricName=\"areaUnderROC\")\n",
    "\n",
    "# Calculate metrics\n",
    "accuracy = accuracy_evaluator.evaluate(lr_predictions)\n",
    "precision = precision_evaluator.evaluate(lr_predictions, {precision_evaluator.metricLabel: 1.0})  # for class 1 (fraud)\n",
    "recall = recall_evaluator.evaluate(lr_predictions, {recall_evaluator.metricLabel: 1.0})  # for class 1 (fraud)\n",
    "f1_score = f1_evaluator.evaluate(lr_predictions)\n",
    "roc_auc = roc_evaluator.evaluate(lr_predictions)\n",
    "\n",
    "# Print metrics\n",
    "print(f\"Logistic Regression Accuracy: {accuracy}\")\n",
    "print(f\"Logistic Regression Precision (Fraud Class): {precision}\")\n",
    "print(f\"Logistic Regression Recall (Fraud Class): {recall}\")\n",
    "print(f\"Logistic Regression F1 Score: {f1_score}\")\n",
    "print(f\"Logistic Regression ROC-AUC: {roc_auc}\")"
   ]
  },
  {
   "cell_type": "code",
   "execution_count": 39,
   "id": "4bd206a0",
   "metadata": {},
   "outputs": [
    {
     "name": "stderr",
     "output_type": "stream",
     "text": [
      "                                                                                \r"
     ]
    },
    {
     "data": {
      "image/png": "[encoded data removed]",
      "text/plain": [
       "<Figure size 576x432 with 1 Axes>"
      ]
     },
     "metadata": {
      "needs_background": "light"
     },
     "output_type": "display_data"
    }
   ],
   "source": [
    "# Create and show the confusion matrix\n",
    "confusion_matrix_df = lr_predictions.groupBy(\"is_fraud\", \"prediction\").count()\n",
    "\n",
    "# Convert Spark DataFrame to Pandas DataFrame for confusion matrix\n",
    "predictions_and_labels = lr_predictions.select(col(\"prediction\"), col(\"is_fraud\")).rdd\n",
    "prediction_df = predictions_and_labels.toDF([\"prediction\", \"label\"]).toPandas()\n",
    "\n",
    "# Compute confusion matrix\n",
    "conf_matrix = sk_confusion_matrix(prediction_df[\"label\"], prediction_df[\"prediction\"])\n",
    "\n",
    "# Create a DataFrame for visualization\n",
    "conf_matrix_df = pd.DataFrame(conf_matrix, index=[\"True Negative\", \"False Positive\"], columns=[\"False Negative\", \"True Positive\"])\n",
    "\n",
    "# Plot confusion matrix\n",
    "plt.figure(figsize=(8, 6))\n",
    "sns.heatmap(conf_matrix_df, annot=True, fmt='d', cmap='Blues', cbar=False, annot_kws={\"size\": 16})\n",
    "plt.title('Confusion Matrix')\n",
    "plt.xlabel('Predicted Labels')\n",
    "plt.ylabel('True Labels')\n",
    "plt.savefig(\"confusion_matrix_plot.png\")  # Save the plot as an image file\n",
    "plt.show()"
   ]
  },
  {
   "cell_type": "code",
   "execution_count": 40,
   "id": "e299c1ca",
   "metadata": {},
   "outputs": [],
   "source": [
    "# Select the relevant columns: is_fraud, prediction, category\n",
    "result_df = lr_predictions.select(col(\"is_fraud\"), col(\"prediction\"), col(\"category\"))"
   ]
  },
  {
   "cell_type": "code",
   "execution_count": 41,
   "id": "355f057d",
   "metadata": {},
   "outputs": [
    {
     "name": "stderr",
     "output_type": "stream",
     "text": [
      "                                                                                \r"
     ]
    }
   ],
   "source": [
    "# Convert confusion matrix DataFrame to a Spark DataFrame\n",
    "conf_matrix_spark_df = spark.createDataFrame(conf_matrix_df.reset_index())\n",
    "# Save confusion matrix to CSV in a single partition\n",
    "conf_matrix_spark_df.repartition(1).write.option(\"header\", \"true\").mode(\"overwrite\").csv(\"hdfs:///user/student/transactions_new/confusion_matrix.csv\")\n",
    "\n",
    "# Save evaluation metrics to CSV in a single partition (HDFS)\n",
    "metrics_df = pd.DataFrame({\n",
    "    \"Metric\": [\"Accuracy\", \"Precision (Fraud Class)\", \"Recall (Fraud Class)\", \"F1 Score\", \"ROC-AUC\"],\n",
    "    \"Value\": [accuracy, precision, recall, f1_score, roc_auc]\n",
    "})\n",
    "\n",
    "# Convert metrics DataFrame to Spark DataFrame\n",
    "metrics_spark_df = spark.createDataFrame(metrics_df)\n",
    "\n",
    "# Save evaluation metrics to CSV in a single partition\n",
    "metrics_spark_df.repartition(1).write.option(\"header\", \"true\").mode(\"overwrite\").csv(\"hdfs:///user/student/transactions_new/metrics.csv\")\n",
    "\n",
    "# Save the result to a CSV file\n",
    "result_df.repartition(1).write.option(\"header\", \"true\").mode(\"overwrite\").csv(\"hdfs:///user/student/transactions_new/result.csv\")"
   ]
  }
 ],
 "metadata": {
  "kernelspec": {
   "display_name": "Python 3 (ipykernel)",
   "language": "python",
   "name": "python3"
  },
  "language_info": {
   "codemirror_mode": {
    "name": "ipython",
    "version": 3
   },
   "file_extension": ".py",
   "mimetype": "text/x-python",
   "name": "python",
   "nbconvert_exporter": "python",
   "pygments_lexer": "ipython3",
   "version": "3.8.11"
  }
 },
 "nbformat": 4,
 "nbformat_minor": 5
}
